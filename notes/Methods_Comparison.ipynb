{
 "cells": [
  {
   "cell_type": "markdown",
   "metadata": {},
   "source": [
    "### Comparison of Forward Euler Method vs Crank-Nicholson"
   ]
  },
  {
   "cell_type": "code",
   "execution_count": 1,
   "metadata": {},
   "outputs": [
    {
     "data": {
      "text/plain": [
       "<matplotlib.figure.Figure at 0x7fa4178ffac8>"
      ]
     },
     "metadata": {},
     "output_type": "display_data"
    }
   ],
   "source": [
    "import seaborn as sns\n",
    "import matplotlib.pyplot as plt\n",
    "import matplotlib as matplotlib\n",
    "import pandas as pd\n",
    "\n",
    "matplotlib.rcParams['figure.figsize'] = [18, 20]\n",
    "fe_inf = pd.read_csv(\"/home/fouriaux/Devel/reaching_ftb/hh/error_analysis/fe_0.005.csv\")\n",
    "cn_inf = pd.read_csv(\"/home/fouriaux/Devel/reaching_ftb/hh/error_analysis/cn_0.000005.csv\")\n",
    "potential_fe_inf = fe_inf[[\"time(ms)\", \"potential(mV)\"]].copy()\n",
    "potential_fe_inf = potential_fe_inf.set_index(\"time(ms)\")\n",
    "potential_fe_inf = potential_fe_inf.rename(columns={\"potential(mV)\":\"fe_inf\"})\n",
    "\n",
    "potential_cn_inf = cn_inf[[\"time(ms)\", \"potential(mV)\"]].copy()\n",
    "potential_cn_inf = potential_cn_inf.set_index(\"time(ms)\")\n",
    "potential_cn_inf = potential_cn_inf.rename(columns={\"potential(mV)\":\"cn_inf\"})\n",
    "\n",
    "potentials = pd.concat([potential_fe_inf, potential_cn_inf])\n",
    "\n",
    "header = list(potentials)\n",
    "hh_v = plt.plot (potentials)\n",
    "plt.legend(iter(hh_v), header)\n",
    "plt.title(\"Crank Nicholson method applied on HH model for different timesteps dt\")\n",
    "plt.xlabel(\"time (ms)\")\n",
    "plt.ylabel(\"potential (mv)\")\n",
    "plt.show()\n",
    "#plt.savefig(\"fe000005vs_cn000005.png\")"
   ]
  },
  {
   "cell_type": "markdown",
   "metadata": {},
   "source": [
    "### Signal Error\n",
    "The error occurs on frequency of spikes: that will appears more clearly on FFT of signals\n",
    "So difference between periods is almost constant in time\n"
   ]
  },
  {
   "cell_type": "code",
   "execution_count": 6,
   "metadata": {},
   "outputs": [
    {
     "data": {
      "image/png": "[encoded data removed]",
      "text/plain": [
       "<matplotlib.figure.Figure at 0x7fa3c1a9ae10>"
      ]
     },
     "metadata": {},
     "output_type": "display_data"
    }
   ],
   "source": [
    "import numpy as np\n",
    "fe_inf = pd.read_csv(\"/home/fouriaux/Devel/reaching_ftb/hh/error_analysis/fe_0.005.csv\")\n",
    "potential_fe_inf = fe_inf[[\"time(ms)\", \"potential(mV)\"]].copy()\n",
    "potential_fe_inf = potential_fe_inf.set_index(\"time(ms)\")\n",
    "potential_fe_inf = potential_fe_inf.rename(columns={\"potential(mV)\":\"fe_inf\"})\n",
    "fe_fft = np.abs(np.fft.fft(potential_fe_inf[\"fe_inf\"]))**2\n",
    "time_step = 1.0 / 1.0\n",
    "fe_freqs = np.fft.fftfreq(potential_fe_inf.size, time_step)\n",
    "idx = np.argsort(fe_freqs)\n",
    "plt.plot (fe_freqs[idx], fe_fft[idx])\n",
    "plt.show()"
   ]
  },
  {
   "cell_type": "code",
   "execution_count": 4,
   "metadata": {},
   "outputs": [
    {
     "data": {
      "image/png": "[encoded data removed]",
      "text/plain": [
       "<matplotlib.figure.Figure at 0x7fa3c2795f98>"
      ]
     },
     "metadata": {},
     "output_type": "display_data"
    }
   ],
   "source": [
    "fe_inf = pd.read_csv(\"/home/fouriaux/Devel/reaching_ftb/hh/error_analysis/fe_0.0005.csv\")\n",
    "potential_fe_inf = fe_inf[[\"time(ms)\", \"potential(mV)\"]].copy()\n",
    "potential_fe_inf = potential_fe_inf.set_index(\"time(ms)\")\n",
    "potential_fe_inf = potential_fe_inf.rename(columns={\"potential(mV)\":\"fe_inf\"})\n",
    "fe_fft = np.abs(np.fft.fft(potential_fe_inf[\"fe_inf\"]))**2\n",
    "time_step = 1.0 / 1.0\n",
    "freqs = np.fft.fftfreq(potential_fe_inf.size, time_step)\n",
    "idx = np.argsort(freqs)\n",
    "plt.plot (freqs[idx], fe_fft[idx])\n",
    "plt.show()"
   ]
  },
  {
   "cell_type": "code",
   "execution_count": 64,
   "metadata": {},
   "outputs": [
    {
     "name": "stdout",
     "output_type": "stream",
     "text": [
      "local max = [36.0674] period between maximums= [-131.769]\n",
      "local max = [35.7335] period between maximums= [14.6512]\n",
      "local max = [35.7085] period between maximums= [14.6406]\n",
      "local max = [35.7067] period between maximums= [14.64]\n",
      "local max = [35.7065] period between maximums= [14.6393]\n",
      "local max = [35.7065] period between maximums= [14.6397]\n",
      "local max = [35.7065] period between maximums= [14.6392]\n",
      "local max = [35.7065] period between maximums= [14.64]\n",
      "local max = [35.7065] period between maximums= [14.64]\n",
      "local max = [35.7065] period between maximums= [14.639]\n"
     ]
    }
   ],
   "source": [
    "#old_delay = 0\n",
    "#local_max_fe = potential_fe_inf[17:32].max()\n",
    "#local_max_fe_t = potential_fe_inf[17:32].idxmax()\n",
    "#print (\"local max =\",local_max_fe.values, \" delay =\", local_max_fe_t.values)\n",
    "\n",
    "for i in range(0,10):\n",
    "    local_max_fe = potential_fe_inf[i*15+3:(i+1)*15+3].max()\n",
    "    local_max_fe_t = potential_fe_inf[i*15+3:(i+1)*15+3].idxmax()\n",
    "    local_max_cn = potential_cn_inf[i*15+3:(i+1)*15+3].max()\n",
    "    local_max_cn_t = potential_cn_inf[i*15+3:(i+1)*15+3].idxmax()\n",
    "#    print (\"local max =\",local_max_fe.values, \" delay =\", (local_max_fe_t - old_delay).values)\n",
    "    print (\"local max =\",local_max_cn.values, \"period between maximums=\", (local_max_cn_t - old_delay).values)\n",
    "#\n",
    "#    print (local_max_fe_t)\n",
    "#    print (local_max_fe_t.values - local_max_cn_t.values)\n",
    "    old_delay = local_max_cn_t\n"
   ]
  },
  {
   "cell_type": "code",
   "execution_count": 65,
   "metadata": {},
   "outputs": [
    {
     "name": "stdout",
     "output_type": "stream",
     "text": [
      "local max = [36.3643] period between maximums= [nan nan]\n",
      "local max = [36.0364] period between maximums= [14.615]\n",
      "local max = [36.0101] period between maximums= [14.6]\n",
      "local max = [36.0094] period between maximums= [14.605]\n",
      "local max = [36.0097] period between maximums= [14.6]\n",
      "local max = [36.0091] period between maximums= [14.6]\n",
      "local max = [36.0084] period between maximums= [14.605]\n",
      "local max = [36.0095] period between maximums= [14.6]\n",
      "local max = [36.0096] period between maximums= [14.6]\n",
      "local max = [36.0087] period between maximums= [14.6]\n"
     ]
    }
   ],
   "source": [
    "#old_delay = 0\n",
    "#local_max_fe = potential_fe_inf[17:32].max()\n",
    "#local_max_fe_t = potential_fe_inf[17:32].idxmax()\n",
    "#print (\"local max =\",local_max_fe.values, \" delay =\", local_max_fe_t.values)\n",
    "\n",
    "for i in range(0,10):\n",
    "    local_max_fe = potential_fe_inf[i*15+3:(i+1)*15+3].max()\n",
    "    local_max_fe_t = potential_fe_inf[i*15+3:(i+1)*15+3].idxmax()\n",
    "    local_max_cn = potential_cn_inf[i*15+3:(i+1)*15+3].max()\n",
    "    local_max_cn_t = potential_cn_inf[i*15+3:(i+1)*15+3].idxmax()\n",
    "#    print (\"local max =\",local_max_fe.values, \" delay =\", (local_max_fe_t - old_delay).values)\n",
    "    print (\"local max =\",local_max_fe.values, \"period between maximums=\", (local_max_fe_t - old_delay).values)\n",
    "#\n",
    "#    print (local_max_fe_t)\n",
    "#    print (local_max_fe_t.values - local_max_cn_t.values)\n",
    "    old_delay = local_max_fe_t\n"
   ]
  },
  {
   "cell_type": "code",
   "execution_count": 67,
   "metadata": {},
   "outputs": [
    {
     "name": "stdout",
     "output_type": "stream",
     "text": [
      "error on period =  [0.344]\n",
      "error on period =  [-0.0362]\n",
      "error on period =  [-0.0406]\n",
      "error on period =  [-0.035]\n",
      "error on period =  [-0.0393]\n",
      "error on period =  [-0.0397]\n",
      "error on period =  [-0.0342]\n",
      "error on period =  [-0.04]\n",
      "error on period =  [-0.04]\n",
      "error on period =  [-0.039]\n"
     ]
    }
   ],
   "source": [
    "for i in range(0,10):\n",
    "    local_max_fe = potential_fe_inf[i*15+3:(i+1)*15+3].max()\n",
    "    local_max_fe_t = potential_fe_inf[i*15+3:(i+1)*15+3].idxmax()\n",
    "    local_max_cn = potential_cn_inf[i*15+3:(i+1)*15+3].max()\n",
    "    local_max_cn_t = potential_cn_inf[i*15+3:(i+1)*15+3].idxmax()\n",
    "    period_fe = local_max_fe_t.values - old_delay_fe.values\n",
    "    period_cn = local_max_cn_t.values - old_delay_cn.values\n",
    "    print (\"error on period = \", period_fe - period_cn)\n",
    "    old_delay_cn = local_max_cn_t\n",
    "    old_delay_fe = local_max_fe_t\n",
    "   "
   ]
  },
  {
   "cell_type": "code",
   "execution_count": 24,
   "metadata": {},
   "outputs": [
    {
     "data": {
      "text/plain": [
       "potential(mV)    0.000108\n",
       "dtype: float64"
      ]
     },
     "execution_count": 24,
     "metadata": {},
     "output_type": "execute_result"
    }
   ],
   "source": [
    "#potential_cn_inf[\"cn_inf\"].corr(potential_fe_inf[\"fe_inf\"])\n",
    "import numpy as np\n",
    "\n",
    "cn_inf = pd.read_csv(\"/home/fouriaux/Devel/reaching_ftb/hh/error_analysis/cn_0.000005.csv\")\n",
    "potential_cn_inf = potential_cn_inf.rename(columns={\"cn_inf\":\"potential(mV)\"})\n",
    "potential_fe_inf = potential_fe_inf.rename(columns={\"fe_inf\":\"potential(mV)\"})\n",
    "\n",
    "potential_cn_inf_2, potential_fe_inf_2 = potential_fe_inf.align(potential_cn_inf)\n",
    "#potential_cn_inf_2\n",
    "errors = potential_fe_inf_2.interpolate(method='time') - potential_cn_inf_2\n",
    "#errors\n",
    "errors = np.square(errors)\n",
    "#errors\n",
    "errors.mean()"
   ]
  },
  {
   "cell_type": "code",
   "execution_count": 1,
   "metadata": {},
   "outputs": [],
   "source": [
    "#del fe_inf \n",
    "#del potential_fe_inf\n",
    "import seaborn as sns\n",
    "import matplotlib.pyplot as plt\n",
    "import matplotlib as matplotlib\n",
    "import pandas as pd\n",
    "import numpy as np\n",
    "\n",
    "cn_inf = pd.read_csv(\"/home/fouriaux/Devel/reaching_ftb/hh/error_analysis/cn_0.000005.csv\")\n",
    "potential_cn_inf = cn_inf[[\"time(ms)\", \"potential(mV)\"]].copy()\n",
    "potential_cn_inf = potential_cn_inf.set_index(\"time(ms)\")"
   ]
  },
  {
   "cell_type": "code",
   "execution_count": 3,
   "metadata": {},
   "outputs": [
    {
     "data": {
      "text/plain": [
       "potential(mV)    0.018272\n",
       "dtype: float64"
      ]
     },
     "execution_count": 3,
     "metadata": {},
     "output_type": "execute_result"
    }
   ],
   "source": [
    "fe_inf = pd.read_csv(\"/home/fouriaux/Devel/reaching_ftb/hh/error_analysis/fe_0.00005.csv\")\n",
    "potential_fe_inf = fe_inf[[\"time(ms)\", \"potential(mV)\"]].copy()\n",
    "potential_fe_inf = potential_fe_inf.set_index(\"time(ms)\")\n",
    "potential_cn_inf_2, potential_fe_inf_2 = potential_fe_inf.align(potential_cn_inf)\n",
    "errors = potential_fe_inf_2.interpolate(method='time') - potential_cn_inf_2\n",
    "errors = np.square(errors)\n",
    "errors.mean()"
   ]
  },
  {
   "cell_type": "code",
   "execution_count": 2,
   "metadata": {},
   "outputs": [
    {
     "data": {
      "text/plain": [
       "potential(mV)    1.811461\n",
       "dtype: float64"
      ]
     },
     "execution_count": 2,
     "metadata": {},
     "output_type": "execute_result"
    }
   ],
   "source": [
    "fe_inf = pd.read_csv(\"/home/fouriaux/Devel/reaching_ftb/hh/error_analysis/fe_0.0005.csv\")\n",
    "potential_fe_inf = fe_inf[[\"time(ms)\", \"potential(mV)\"]].copy()\n",
    "potential_fe_inf = potential_fe_inf.set_index(\"time(ms)\")\n",
    "potential_cn_inf_2, potential_fe_inf_2 = potential_fe_inf.align(potential_cn_inf)\n",
    "errors = potential_fe_inf_2.interpolate(method='time') - potential_cn_inf_2\n",
    "errors = np.square(errors)\n",
    "errors.mean()"
   ]
  },
  {
   "cell_type": "code",
   "execution_count": 4,
   "metadata": {},
   "outputs": [
    {
     "data": {
      "text/plain": [
       "potential(mV)    143.758125\n",
       "dtype: float64"
      ]
     },
     "execution_count": 4,
     "metadata": {},
     "output_type": "execute_result"
    }
   ],
   "source": [
    "fe_inf = pd.read_csv(\"/home/fouriaux/Devel/reaching_ftb/hh/error_analysis/fe_0.005.csv\")\n",
    "potential_fe_inf = fe_inf[[\"time(ms)\", \"potential(mV)\"]].copy()\n",
    "potential_fe_inf = potential_fe_inf.set_index(\"time(ms)\")\n",
    "potential_cn_inf_2, potential_fe_inf_2 = potential_fe_inf.align(potential_cn_inf)\n",
    "errors = potential_fe_inf_2.interpolate(method='time') - potential_cn_inf_2\n",
    "errors = np.square(errors)\n",
    "errors.mean()"
   ]
  },
  {
   "cell_type": "code",
   "execution_count": 5,
   "metadata": {},
   "outputs": [
    {
     "data": {
      "text/plain": [
       "potential(mV)    1352.226019\n",
       "dtype: float64"
      ]
     },
     "execution_count": 5,
     "metadata": {},
     "output_type": "execute_result"
    }
   ],
   "source": [
    "fe_inf = pd.read_csv(\"/home/fouriaux/Devel/reaching_ftb/hh/error_analysis/fe_0.05.csv\")\n",
    "potential_fe_inf = fe_inf[[\"time(ms)\", \"potential(mV)\"]].copy()\n",
    "potential_fe_inf = potential_fe_inf.set_index(\"time(ms)\")\n",
    "potential_cn_inf_2, potential_fe_inf_2 = potential_fe_inf.align(potential_cn_inf)\n",
    "errors = potential_fe_inf_2.interpolate(method='time') - potential_cn_inf_2\n",
    "errors = np.square(errors)\n",
    "errors.mean()"
   ]
  },
  {
   "cell_type": "code",
   "execution_count": 6,
   "metadata": {},
   "outputs": [
    {
     "data": {
      "text/plain": [
       "potential(mV)    0.000181\n",
       "dtype: float64"
      ]
     },
     "execution_count": 6,
     "metadata": {},
     "output_type": "execute_result"
    }
   ],
   "source": [
    "fe_inf = pd.read_csv(\"/home/fouriaux/Devel/reaching_ftb/hh/error_analysis/cn_0.00005.csv\")\n",
    "potential_fe_inf = fe_inf[[\"time(ms)\", \"potential(mV)\"]].copy()\n",
    "potential_fe_inf = potential_fe_inf.set_index(\"time(ms)\")\n",
    "potential_cn_inf_2, potential_fe_inf_2 = potential_fe_inf.align(potential_cn_inf)\n",
    "errors = potential_fe_inf_2.interpolate(method='time') - potential_cn_inf_2\n",
    "errors = np.square(errors)\n",
    "errors.mean()"
   ]
  },
  {
   "cell_type": "code",
   "execution_count": 10,
   "metadata": {},
   "outputs": [
    {
     "data": {
      "text/plain": [
       "potential(mV)    0.000558\n",
       "dtype: float64"
      ]
     },
     "execution_count": 10,
     "metadata": {},
     "output_type": "execute_result"
    }
   ],
   "source": [
    "fe_inf = pd.read_csv(\"/home/fouriaux/Devel/reaching_ftb/hh/error_analysis/cn_0.0005.csv\")\n",
    "potential_fe_inf = fe_inf[[\"time(ms)\", \"potential(mV)\"]].copy()\n",
    "potential_fe_inf = potential_fe_inf.set_index(\"time(ms)\")\n",
    "potential_cn_inf_2, potential_fe_inf_2 = potential_fe_inf.align(potential_cn_inf)\n",
    "errors = potential_fe_inf_2.interpolate(method='time') - potential_cn_inf_2\n",
    "errors = np.square(errors)\n",
    "errors.mean()"
   ]
  },
  {
   "cell_type": "code",
   "execution_count": 11,
   "metadata": {},
   "outputs": [
    {
     "data": {
      "text/plain": [
       "potential(mV)    0.024064\n",
       "dtype: float64"
      ]
     },
     "execution_count": 11,
     "metadata": {},
     "output_type": "execute_result"
    }
   ],
   "source": [
    "fe_inf = pd.read_csv(\"/home/fouriaux/Devel/reaching_ftb/hh/error_analysis/cn_0.005.csv\")\n",
    "potential_fe_inf = fe_inf[[\"time(ms)\", \"potential(mV)\"]].copy()\n",
    "potential_fe_inf = potential_fe_inf.set_index(\"time(ms)\")\n",
    "potential_cn_inf_2, potential_fe_inf_2 = potential_fe_inf.align(potential_cn_inf)\n",
    "errors = potential_fe_inf_2.interpolate(method='time') - potential_cn_inf_2\n",
    "errors = np.square(errors)\n",
    "errors.mean()"
   ]
  },
  {
   "cell_type": "code",
   "execution_count": 12,
   "metadata": {},
   "outputs": [
    {
     "data": {
      "text/plain": [
       "potential(mV)    0.207514\n",
       "dtype: float64"
      ]
     },
     "execution_count": 12,
     "metadata": {},
     "output_type": "execute_result"
    }
   ],
   "source": [
    "fe_inf = pd.read_csv(\"/home/fouriaux/Devel/reaching_ftb/hh/error_analysis/cn_0.05.csv\")\n",
    "potential_fe_inf = fe_inf[[\"time(ms)\", \"potential(mV)\"]].copy()\n",
    "potential_fe_inf = potential_fe_inf.set_index(\"time(ms)\")\n",
    "potential_cn_inf_2, potential_fe_inf_2 = potential_fe_inf.align(potential_cn_inf)\n",
    "errors = potential_fe_inf_2.interpolate(method='time') - potential_cn_inf_2\n",
    "errors = np.square(errors)\n",
    "errors.mean()"
   ]
  },
  {
   "cell_type": "code",
   "execution_count": 25,
   "metadata": {},
   "outputs": [
    {
     "data": {
      "image/png": "[encoded data removed]",
      "text/plain": [
       "<matplotlib.figure.Figure at 0x7f2a226aa6a0>"
      ]
     },
     "metadata": {},
     "output_type": "display_data"
    }
   ],
   "source": [
    "cross = pd.read_csv(\"/home/fouriaux/Devel/reaching_ftb/hh/error_analysis/cross-corelations.csv\")\n",
    "pivoted = cross.pivot(index='timestep', columns='method', values='error')\n",
    "header = list(pivoted)\n",
    "hh_v = plt.plot (pivoted)\n",
    "plt.legend(iter(hh_v), header)\n",
    "#plt.title(\"Crank Nicholson method applied on HH model for different timesteps dt\")\n",
    "#plt.xlabel(\"time (ms)\")\n",
    "#plt.ylabel(\"potential (mv)\")\n",
    "plt.show()"
   ]
  },
  {
   "cell_type": "code",
   "execution_count": 45,
   "metadata": {},
   "outputs": [
    {
     "data": {
      "text/plain": [
       "[<matplotlib.lines.Line2D at 0x7f2a22870908>]"
      ]
     },
     "execution_count": 45,
     "metadata": {},
     "output_type": "execute_result"
    },
    {
     "data": {
      "image/png": "[encoded data removed]",
      "text/plain": [
       "<matplotlib.figure.Figure at 0x7f2a22870cc0>"
      ]
     },
     "metadata": {},
     "output_type": "display_data"
    }
   ],
   "source": [
    "import numpy as np\n",
    "x = [a for [a,b,c] in cross.as_matrix()]\n",
    "x = np.array(x[1:5])\n",
    "y = pivoted.as_matrix()\n",
    "plt.plot(np.log(x),np.log(1-np.array(y[1:5,0])))\n",
    "plt.plot(np.log(x),np.log(1-np.array(y[1:5,1])))"
   ]
  },
  {
   "cell_type": "code",
   "execution_count": 50,
   "metadata": {},
   "outputs": [
    {
     "data": {
      "text/plain": [
       "[<matplotlib.lines.Line2D at 0x7f2a221e6908>]"
      ]
     },
     "execution_count": 50,
     "metadata": {},
     "output_type": "execute_result"
    },
    {
     "data": {
      "image/png": "[encoded data removed]",
      "text/plain": [
       "<matplotlib.figure.Figure at 0x7f2a226bec50>"
      ]
     },
     "metadata": {},
     "output_type": "display_data"
    }
   ],
   "source": [
    "\n",
    "x = [a for [a,b,c] in cross.as_matrix()]\n",
    "x = x[0:5]\n",
    "y = pivoted.as_matrix()\n",
    "plt.loglog(2*np.array(x[1:5]),1-np.array(y[1:5,0]))\n",
    "plt.loglog(2*np.array(x),1-np.array(y[:,1]))"
   ]
  },
  {
   "cell_type": "code",
   "execution_count": 13,
   "metadata": {},
   "outputs": [
    {
     "data": {
      "image/png": "[encoded data removed]",
      "text/plain": [
       "<matplotlib.figure.Figure at 0x7f3be5047ef0>"
      ]
     },
     "metadata": {},
     "output_type": "display_data"
    }
   ],
   "source": [
    "matplotlib.rcParams['figure.figsize'] = [18, 20]\n",
    "ms = pd.read_csv(\"/home/fouriaux/Devel/reaching_ftb/hh/error_analysis/mean_square.csv\")\n",
    "pivoted = ms.pivot(index='timestep', columns='method', values='error')\n",
    "header = list(pivoted)\n",
    "#pivoted\n",
    "piv = np.sqrt(pivoted[['C.N', 'F.E']])\n",
    "hh_v = plt.loglog(piv, marker='o')\n",
    "plt.title(\"mean square error of explicit vs implicit, ground truth as C.N with lowest timestep \")\n",
    "plt.xlabel(\"time step (ms)\")\n",
    "plt.ylabel(\"error\")\n",
    "plt.legend(iter(hh_v), header)\n",
    "plt.savefig(\"/home/fouriaux/Devel/reaching_ftb/hh/error_analysis/mean_square.png\")"
   ]
  },
  {
   "cell_type": "code",
   "execution_count": 1,
   "metadata": {},
   "outputs": [],
   "source": [
    "import seaborn as sns\n",
    "import matplotlib.pyplot as plt\n",
    "import matplotlib as matplotlib\n",
    "import pandas as pd\n",
    "import numpy as np\n",
    "\n",
    "fe_inf = pd.read_csv(\"/home/fouriaux/Devel/reaching_ftb/hh/error_analysis/fe_0.000005.csv\")\n",
    "potential_fe_inf = fe_inf[[\"time(ms)\", \"potential(mV)\"]].copy()\n",
    "potential_fe_inf = potential_fe_inf.set_index(\"time(ms)\")"
   ]
  },
  {
   "cell_type": "code",
   "execution_count": 3,
   "metadata": {},
   "outputs": [
    {
     "data": {
      "text/plain": [
       "potential(mV)    0.000108\n",
       "dtype: float64"
      ]
     },
     "execution_count": 3,
     "metadata": {},
     "output_type": "execute_result"
    }
   ],
   "source": [
    "cn_inf = pd.read_csv(\"/home/fouriaux/Devel/reaching_ftb/hh/error_analysis/cn_0.000005.csv\")\n",
    "potential_cn_inf = cn_inf[[\"time(ms)\", \"potential(mV)\"]].copy()\n",
    "potential_cn_inf = potential_cn_inf.set_index(\"time(ms)\")\n",
    "potential_fe_inf_2, potential_cn_inf_2 = potential_cn_inf.align(potential_fe_inf)\n",
    "errors = potential_cn_inf_2.interpolate(method='time') - potential_fe_inf_2\n",
    "errors = np.square(errors)\n",
    "errors.mean()"
   ]
  },
  {
   "cell_type": "code",
   "execution_count": 4,
   "metadata": {},
   "outputs": [
    {
     "data": {
      "text/plain": [
       "potential(mV)    0.000314\n",
       "dtype: float64"
      ]
     },
     "execution_count": 4,
     "metadata": {},
     "output_type": "execute_result"
    }
   ],
   "source": [
    "cn_inf = pd.read_csv(\"/home/fouriaux/Devel/reaching_ftb/hh/error_analysis/cn_0.00005.csv\")\n",
    "potential_cn_inf = cn_inf[[\"time(ms)\", \"potential(mV)\"]].copy()\n",
    "potential_cn_inf = potential_cn_inf.set_index(\"time(ms)\")\n",
    "potential_fe_inf_2, potential_cn_inf_2 = potential_cn_inf.align(potential_fe_inf)\n",
    "errors = potential_cn_inf_2.interpolate(method='time') - potential_fe_inf_2\n",
    "errors = np.square(errors)\n",
    "errors.mean()"
   ]
  },
  {
   "cell_type": "code",
   "execution_count": 5,
   "metadata": {},
   "outputs": [
    {
     "data": {
      "text/plain": [
       "potential(mV)    0.000227\n",
       "dtype: float64"
      ]
     },
     "execution_count": 5,
     "metadata": {},
     "output_type": "execute_result"
    }
   ],
   "source": [
    "cn_inf = pd.read_csv(\"/home/fouriaux/Devel/reaching_ftb/hh/error_analysis/cn_0.0005.csv\")\n",
    "potential_cn_inf = cn_inf[[\"time(ms)\", \"potential(mV)\"]].copy()\n",
    "potential_cn_inf = potential_cn_inf.set_index(\"time(ms)\")\n",
    "potential_fe_inf_2, potential_cn_inf_2 = potential_cn_inf.align(potential_fe_inf)\n",
    "errors = potential_cn_inf_2.interpolate(method='time') - potential_fe_inf_2\n",
    "errors = np.square(errors)\n",
    "errors.mean()"
   ]
  },
  {
   "cell_type": "code",
   "execution_count": 6,
   "metadata": {},
   "outputs": [
    {
     "data": {
      "text/plain": [
       "potential(mV)    0.0203\n",
       "dtype: float64"
      ]
     },
     "execution_count": 6,
     "metadata": {},
     "output_type": "execute_result"
    }
   ],
   "source": [
    "cn_inf = pd.read_csv(\"/home/fouriaux/Devel/reaching_ftb/hh/error_analysis/cn_0.005.csv\")\n",
    "potential_cn_inf = cn_inf[[\"time(ms)\", \"potential(mV)\"]].copy()\n",
    "potential_cn_inf = potential_cn_inf.set_index(\"time(ms)\")\n",
    "potential_fe_inf_2, potential_cn_inf_2 = potential_cn_inf.align(potential_fe_inf)\n",
    "errors = potential_cn_inf_2.interpolate(method='time') - potential_fe_inf_2\n",
    "errors = np.square(errors)\n",
    "errors.mean()"
   ]
  },
  {
   "cell_type": "code",
   "execution_count": 7,
   "metadata": {},
   "outputs": [
    {
     "data": {
      "text/plain": [
       "potential(mV)    0.203548\n",
       "dtype: float64"
      ]
     },
     "execution_count": 7,
     "metadata": {},
     "output_type": "execute_result"
    }
   ],
   "source": [
    "cn_inf = pd.read_csv(\"/home/fouriaux/Devel/reaching_ftb/hh/error_analysis/cn_0.05.csv\")\n",
    "potential_cn_inf = cn_inf[[\"time(ms)\", \"potential(mV)\"]].copy()\n",
    "potential_cn_inf = potential_cn_inf.set_index(\"time(ms)\")\n",
    "potential_fe_inf_2, potential_cn_inf_2 = potential_cn_inf.align(potential_fe_inf)\n",
    "errors = potential_cn_inf_2.interpolate(method='time') - potential_fe_inf_2\n",
    "errors = np.square(errors)\n",
    "errors.mean()"
   ]
  },
  {
   "cell_type": "code",
   "execution_count": 8,
   "metadata": {},
   "outputs": [
    {
     "data": {
      "text/plain": [
       "potential(mV)    0.014875\n",
       "dtype: float64"
      ]
     },
     "execution_count": 8,
     "metadata": {},
     "output_type": "execute_result"
    }
   ],
   "source": [
    "cn_inf = pd.read_csv(\"/home/fouriaux/Devel/reaching_ftb/hh/error_analysis/fe_0.00005.csv\")\n",
    "potential_cn_inf = cn_inf[[\"time(ms)\", \"potential(mV)\"]].copy()\n",
    "potential_cn_inf = potential_cn_inf.set_index(\"time(ms)\")\n",
    "potential_fe_inf_2, potential_cn_inf_2 = potential_cn_inf.align(potential_fe_inf)\n",
    "errors = potential_cn_inf_2.interpolate(method='time') - potential_fe_inf_2\n",
    "errors = np.square(errors)\n",
    "errors.mean()"
   ]
  },
  {
   "cell_type": "code",
   "execution_count": 9,
   "metadata": {},
   "outputs": [
    {
     "data": {
      "text/plain": [
       "potential(mV)    1.776061\n",
       "dtype: float64"
      ]
     },
     "execution_count": 9,
     "metadata": {},
     "output_type": "execute_result"
    }
   ],
   "source": [
    "cn_inf = pd.read_csv(\"/home/fouriaux/Devel/reaching_ftb/hh/error_analysis/fe_0.0005.csv\")\n",
    "potential_cn_inf = cn_inf[[\"time(ms)\", \"potential(mV)\"]].copy()\n",
    "potential_cn_inf = potential_cn_inf.set_index(\"time(ms)\")\n",
    "potential_fe_inf_2, potential_cn_inf_2 = potential_cn_inf.align(potential_fe_inf)\n",
    "errors = potential_cn_inf_2.interpolate(method='time') - potential_fe_inf_2\n",
    "errors = np.square(errors)\n",
    "errors.mean()"
   ]
  },
  {
   "cell_type": "code",
   "execution_count": 10,
   "metadata": {},
   "outputs": [
    {
     "data": {
      "text/plain": [
       "potential(mV)    143.524128\n",
       "dtype: float64"
      ]
     },
     "execution_count": 10,
     "metadata": {},
     "output_type": "execute_result"
    }
   ],
   "source": [
    "cn_inf = pd.read_csv(\"/home/fouriaux/Devel/reaching_ftb/hh/error_analysis/fe_0.005.csv\")\n",
    "potential_cn_inf = cn_inf[[\"time(ms)\", \"potential(mV)\"]].copy()\n",
    "potential_cn_inf = potential_cn_inf.set_index(\"time(ms)\")\n",
    "potential_fe_inf_2, potential_cn_inf_2 = potential_cn_inf.align(potential_fe_inf)\n",
    "errors = potential_cn_inf_2.interpolate(method='time') - potential_fe_inf_2\n",
    "errors = np.square(errors)\n",
    "errors.mean()"
   ]
  },
  {
   "cell_type": "code",
   "execution_count": 11,
   "metadata": {},
   "outputs": [
    {
     "data": {
      "text/plain": [
       "potential(mV)    1352.20959\n",
       "dtype: float64"
      ]
     },
     "execution_count": 11,
     "metadata": {},
     "output_type": "execute_result"
    }
   ],
   "source": [
    "cn_inf = pd.read_csv(\"/home/fouriaux/Devel/reaching_ftb/hh/error_analysis/fe_0.05.csv\")\n",
    "potential_cn_inf = cn_inf[[\"time(ms)\", \"potential(mV)\"]].copy()\n",
    "potential_cn_inf = potential_cn_inf.set_index(\"time(ms)\")\n",
    "potential_fe_inf_2, potential_cn_inf_2 = potential_cn_inf.align(potential_fe_inf)\n",
    "errors = potential_cn_inf_2.interpolate(method='time') - potential_fe_inf_2\n",
    "errors = np.square(errors)\n",
    "errors.mean()"
   ]
  },
  {
   "cell_type": "code",
   "execution_count": 12,
   "metadata": {},
   "outputs": [
    {
     "data": {
      "image/png": "[encoded data removed]",
      "text/plain": [
       "<matplotlib.figure.Figure at 0x7f3d2c0aaa58>"
      ]
     },
     "metadata": {},
     "output_type": "display_data"
    }
   ],
   "source": [
    "matplotlib.rcParams['figure.figsize'] = [18, 20]\n",
    "ms = pd.read_csv(\"/home/fouriaux/Devel/reaching_ftb/hh/error_analysis/mean_square_from_fe.csv\")\n",
    "pivoted = ms.pivot(index='timestep', columns='method', values='error')\n",
    "header = list(pivoted)\n",
    "#pivoted\n",
    "piv = np.sqrt(pivoted[['C.N', 'F.E']])\n",
    "hh_v = plt.loglog(piv, marker='o')\n",
    "plt.title(\"mean square error of explicit vs implicit, ground truth as F.E lowest timestep \")\n",
    "plt.xlabel(\"time step (ms)\")\n",
    "plt.ylabel(\"error\")\n",
    "plt.legend(iter(hh_v), header)\n",
    "plt.savefig(\"/home/fouriaux/Devel/reaching_ftb/hh/error_analysis/mean_square_on_FE.png\")"
   ]
  },
  {
   "cell_type": "code",
   "execution_count": 14,
   "metadata": {},
   "outputs": [
    {
     "data": {
      "text/html": [
       "<div>\n",
       "<style scoped>\n",
       "    .dataframe tbody tr th:only-of-type {\n",
       "        vertical-align: middle;\n",
       "    }\n",
       "\n",
       "    .dataframe tbody tr th {\n",
       "        vertical-align: top;\n",
       "    }\n",
       "\n",
       "    .dataframe thead th {\n",
       "        text-align: right;\n",
       "    }\n",
       "</style>\n",
       "<table border=\"1\" class=\"dataframe\">\n",
       "  <thead>\n",
       "    <tr style=\"text-align: right;\">\n",
       "      <th>method</th>\n",
       "      <th>C.N</th>\n",
       "      <th>F.E</th>\n",
       "    </tr>\n",
       "    <tr>\n",
       "      <th>timestep</th>\n",
       "      <th></th>\n",
       "      <th></th>\n",
       "    </tr>\n",
       "  </thead>\n",
       "  <tbody>\n",
       "    <tr>\n",
       "      <th>0.000005</th>\n",
       "      <td>0.000000</td>\n",
       "      <td>0.000108</td>\n",
       "    </tr>\n",
       "    <tr>\n",
       "      <th>0.000050</th>\n",
       "      <td>0.000181</td>\n",
       "      <td>0.018272</td>\n",
       "    </tr>\n",
       "    <tr>\n",
       "      <th>0.000500</th>\n",
       "      <td>0.000558</td>\n",
       "      <td>1.811461</td>\n",
       "    </tr>\n",
       "    <tr>\n",
       "      <th>0.005000</th>\n",
       "      <td>0.024064</td>\n",
       "      <td>143.758125</td>\n",
       "    </tr>\n",
       "    <tr>\n",
       "      <th>0.050000</th>\n",
       "      <td>0.207514</td>\n",
       "      <td>1352.226019</td>\n",
       "    </tr>\n",
       "  </tbody>\n",
       "</table>\n",
       "</div>"
      ],
      "text/plain": [
       "method         C.N          F.E\n",
       "timestep                       \n",
       "0.000005  0.000000     0.000108\n",
       "0.000050  0.000181     0.018272\n",
       "0.000500  0.000558     1.811461\n",
       "0.005000  0.024064   143.758125\n",
       "0.050000  0.207514  1352.226019"
      ]
     },
     "execution_count": 14,
     "metadata": {},
     "output_type": "execute_result"
    }
   ],
   "source": [
    "pivoted"
   ]
  },
  {
   "cell_type": "code",
   "execution_count": null,
   "metadata": {},
   "outputs": [],
   "source": []
  }
 ],
 "metadata": {
  "kernelspec": {
   "display_name": "Python 3",
   "language": "python",
   "name": "python3"
  },
  "language_info": {
   "codemirror_mode": {
    "name": "ipython",
    "version": 3
   },
   "file_extension": ".py",
   "mimetype": "text/x-python",
   "name": "python",
   "nbconvert_exporter": "python",
   "pygments_lexer": "ipython3",
   "version": "3.6.4"
  }
 },
 "nbformat": 4,
 "nbformat_minor": 2
}
